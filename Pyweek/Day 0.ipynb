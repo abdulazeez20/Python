{
 "cells": [
  {
   "cell_type": "code",
   "execution_count": 3,
   "metadata": {},
   "outputs": [
    {
     "name": "stdout",
     "output_type": "stream",
     "text": [
      "Hello World\n"
     ]
    }
   ],
   "source": [
    "# this line prints hello world\n",
    "print (\"Hello World\")"
   ]
  },
  {
   "cell_type": "markdown",
   "metadata": {},
   "source": [
    "Variables,\n",
    "Rules for Creating Var,\n",
    "input/output,\n",
    "data types, \n",
    "type(operators)"
   ]
  },
  {
   "cell_type": "code",
   "execution_count": 1,
   "metadata": {},
   "outputs": [
    {
     "name": "stdout",
     "output_type": "stream",
     "text": [
      "10\n"
     ]
    }
   ],
   "source": [
    "# you cannot use a number, (-)hyphen, space in between\n",
    "myvar = 10\n",
    "print(myvar)"
   ]
  },
  {
   "cell_type": "code",
   "execution_count": 4,
   "metadata": {},
   "outputs": [
    {
     "name": "stdout",
     "output_type": "stream",
     "text": [
      " hello world pyweek\n",
      " hello world \n",
      " \t pyweek\n"
     ]
    }
   ],
   "source": [
    "print(\" hello world pyweek\")\n",
    "# writing word in next line, after 3 spaced we use \"Escape Sequence\"\n",
    "print(\" hello world \\n \\t pyweek\") # \\t adds 3 spaces called as \"tabspace\"\n",
    "\n",
    "# acc. to python here \n",
    "# It is Case Sensitive ( P != p )\n",
    "# Similarly it is also space sensitive - intendation error"
   ]
  },
  {
   "cell_type": "code",
   "execution_count": 28,
   "metadata": {},
   "outputs": [
    {
     "name": "stdout",
     "output_type": "stream",
     "text": [
      "afd\n",
      "qw\n"
     ]
    }
   ],
   "source": [
    "myage=5\n",
    "yourage = input(\"Enter your age\")\n",
    "print(yourage)\n",
    "\n",
    "#ab=input()\n",
    "#print(ab)"
   ]
  },
  {
   "cell_type": "markdown",
   "metadata": {},
   "source": [
    "Data Types : Number, Int, Float, complex, text-string, boolean"
   ]
  },
  {
   "cell_type": "code",
   "execution_count": 33,
   "metadata": {},
   "outputs": [
    {
     "data": {
      "text/plain": [
       "complex"
      ]
     },
     "execution_count": 33,
     "metadata": {},
     "output_type": "execute_result"
    }
   ],
   "source": [
    "\n",
    "a=56         \n",
    "b=5.6   \n",
    "c=2j    \n",
    "type(a) # duplicate line (Alt + Shift + down arrow)\n",
    "type(b)\n",
    "type(c)\n",
    "#bool(a)"
   ]
  },
  {
   "cell_type": "code",
   "execution_count": 55,
   "metadata": {},
   "outputs": [
    {
     "data": {
      "text/plain": [
       "8"
      ]
     },
     "execution_count": 55,
     "metadata": {},
     "output_type": "execute_result"
    }
   ],
   "source": [
    "6+3; 6-3; 6/3; 6%3; 6//3; 6**3\n",
    "52/3\n",
    "52//3\n",
    "2**3"
   ]
  },
  {
   "cell_type": "markdown",
   "metadata": {},
   "source": [
    "Assignment Operators: \n",
    "    = \n",
    "    += \n",
    "    -= \n",
    "    *= \n",
    "    /= \n",
    "    %="
   ]
  },
  {
   "cell_type": "code",
   "execution_count": 79,
   "metadata": {},
   "outputs": [
    {
     "name": "stdout",
     "output_type": "stream",
     "text": [
      "4\n"
     ]
    }
   ],
   "source": [
    "#ab=5 ;ab==6\n",
    "age1=5\n",
    "shujath =19\n",
    "shujath%=age1\n",
    "\n",
    "print(shujath)"
   ]
  },
  {
   "cell_type": "markdown",
   "metadata": {},
   "source": [
    "Python Comparision Operator\n",
    "\n",
    "Comparision Operators are used to compare two variables\n",
    "> < <= >= =="
   ]
  },
  {
   "cell_type": "code",
   "execution_count": 13,
   "metadata": {},
   "outputs": [
    {
     "name": "stdout",
     "output_type": "stream",
     "text": [
      "True\n"
     ]
    }
   ],
   "source": [
    "a=10\n",
    "b=16\n",
    "print(a<=b)"
   ]
  },
  {
   "cell_type": "markdown",
   "metadata": {},
   "source": [
    "Python Logical Operator\n",
    "\n",
    "    Logical Operators are used to combine conditional statements:\n",
    "    and, or, not\n",
    "    x < 5 and x < 10\n",
    "    x < 5 and x < 4\n",
    "    not(x < 5 and x < 10)"
   ]
  },
  {
   "cell_type": "code",
   "execution_count": 23,
   "metadata": {},
   "outputs": [
    {
     "name": "stdout",
     "output_type": "stream",
     "text": [
      "True\n"
     ]
    }
   ],
   "source": [
    "x=12\n",
    "print(not(x<10 and x>3))"
   ]
  },
  {
   "cell_type": "markdown",
   "metadata": {},
   "source": [
    "## Operator Precedence\n",
    "PEDMAS :\n",
    "\n",
    "() ** * / + -\n",
    "\n",
    "we use it when many operators come in one single line, which operator gets more precedence"
   ]
  },
  {
   "cell_type": "code",
   "execution_count": 24,
   "metadata": {},
   "outputs": [
    {
     "name": "stdout",
     "output_type": "stream",
     "text": [
      "0\n"
     ]
    }
   ],
   "source": [
    "print((6+3) - (6+3))"
   ]
  },
  {
   "cell_type": "code",
   "execution_count": 25,
   "metadata": {},
   "outputs": [
    {
     "name": "stdout",
     "output_type": "stream",
     "text": [
      "115\n"
     ]
    }
   ],
   "source": [
    "print(100 + 5 * 3)"
   ]
  },
  {
   "cell_type": "code",
   "execution_count": null,
   "metadata": {},
   "outputs": [],
   "source": [
    "print( 5 + 4 - 7 + 3)"
   ]
  }
 ],
 "metadata": {
  "kernelspec": {
   "display_name": "Python 3",
   "language": "python",
   "name": "python3"
  },
  "language_info": {
   "codemirror_mode": {
    "name": "ipython",
    "version": 3
   },
   "file_extension": ".py",
   "mimetype": "text/x-python",
   "name": "python",
   "nbconvert_exporter": "python",
   "pygments_lexer": "ipython3",
   "version": "3.9.13"
  }
 },
 "nbformat": 4,
 "nbformat_minor": 2
}
